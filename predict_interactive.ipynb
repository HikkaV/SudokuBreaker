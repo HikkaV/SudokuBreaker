{
 "cells": [
  {
   "cell_type": "code",
   "execution_count": 1,
   "metadata": {},
   "outputs": [
    {
     "name": "stderr",
     "output_type": "stream",
     "text": [
      "/home/volodymyr/envs/sudoku_nn/lib/python3.7/site-packages/tensorflow/python/framework/dtypes.py:523: FutureWarning: Passing (type, 1) or '1type' as a synonym of type is deprecated; in a future version of numpy, it will be understood as (type, (1,)) / '(1,)type'.\n",
      "  _np_qint8 = np.dtype([(\"qint8\", np.int8, 1)])\n",
      "/home/volodymyr/envs/sudoku_nn/lib/python3.7/site-packages/tensorflow/python/framework/dtypes.py:524: FutureWarning: Passing (type, 1) or '1type' as a synonym of type is deprecated; in a future version of numpy, it will be understood as (type, (1,)) / '(1,)type'.\n",
      "  _np_quint8 = np.dtype([(\"quint8\", np.uint8, 1)])\n",
      "/home/volodymyr/envs/sudoku_nn/lib/python3.7/site-packages/tensorflow/python/framework/dtypes.py:525: FutureWarning: Passing (type, 1) or '1type' as a synonym of type is deprecated; in a future version of numpy, it will be understood as (type, (1,)) / '(1,)type'.\n",
      "  _np_qint16 = np.dtype([(\"qint16\", np.int16, 1)])\n",
      "/home/volodymyr/envs/sudoku_nn/lib/python3.7/site-packages/tensorflow/python/framework/dtypes.py:526: FutureWarning: Passing (type, 1) or '1type' as a synonym of type is deprecated; in a future version of numpy, it will be understood as (type, (1,)) / '(1,)type'.\n",
      "  _np_quint16 = np.dtype([(\"quint16\", np.uint16, 1)])\n",
      "/home/volodymyr/envs/sudoku_nn/lib/python3.7/site-packages/tensorflow/python/framework/dtypes.py:527: FutureWarning: Passing (type, 1) or '1type' as a synonym of type is deprecated; in a future version of numpy, it will be understood as (type, (1,)) / '(1,)type'.\n",
      "  _np_qint32 = np.dtype([(\"qint32\", np.int32, 1)])\n",
      "/home/volodymyr/envs/sudoku_nn/lib/python3.7/site-packages/tensorflow/python/framework/dtypes.py:532: FutureWarning: Passing (type, 1) or '1type' as a synonym of type is deprecated; in a future version of numpy, it will be understood as (type, (1,)) / '(1,)type'.\n",
      "  np_resource = np.dtype([(\"resource\", np.ubyte, 1)])\n",
      "/home/volodymyr/envs/sudoku_nn/lib/python3.7/site-packages/tensorboard/compat/tensorflow_stub/dtypes.py:541: FutureWarning: Passing (type, 1) or '1type' as a synonym of type is deprecated; in a future version of numpy, it will be understood as (type, (1,)) / '(1,)type'.\n",
      "  _np_qint8 = np.dtype([(\"qint8\", np.int8, 1)])\n",
      "/home/volodymyr/envs/sudoku_nn/lib/python3.7/site-packages/tensorboard/compat/tensorflow_stub/dtypes.py:542: FutureWarning: Passing (type, 1) or '1type' as a synonym of type is deprecated; in a future version of numpy, it will be understood as (type, (1,)) / '(1,)type'.\n",
      "  _np_quint8 = np.dtype([(\"quint8\", np.uint8, 1)])\n",
      "/home/volodymyr/envs/sudoku_nn/lib/python3.7/site-packages/tensorboard/compat/tensorflow_stub/dtypes.py:543: FutureWarning: Passing (type, 1) or '1type' as a synonym of type is deprecated; in a future version of numpy, it will be understood as (type, (1,)) / '(1,)type'.\n",
      "  _np_qint16 = np.dtype([(\"qint16\", np.int16, 1)])\n",
      "/home/volodymyr/envs/sudoku_nn/lib/python3.7/site-packages/tensorboard/compat/tensorflow_stub/dtypes.py:544: FutureWarning: Passing (type, 1) or '1type' as a synonym of type is deprecated; in a future version of numpy, it will be understood as (type, (1,)) / '(1,)type'.\n",
      "  _np_quint16 = np.dtype([(\"quint16\", np.uint16, 1)])\n",
      "/home/volodymyr/envs/sudoku_nn/lib/python3.7/site-packages/tensorboard/compat/tensorflow_stub/dtypes.py:545: FutureWarning: Passing (type, 1) or '1type' as a synonym of type is deprecated; in a future version of numpy, it will be understood as (type, (1,)) / '(1,)type'.\n",
      "  _np_qint32 = np.dtype([(\"qint32\", np.int32, 1)])\n",
      "/home/volodymyr/envs/sudoku_nn/lib/python3.7/site-packages/tensorboard/compat/tensorflow_stub/dtypes.py:550: FutureWarning: Passing (type, 1) or '1type' as a synonym of type is deprecated; in a future version of numpy, it will be understood as (type, (1,)) / '(1,)type'.\n",
      "  np_resource = np.dtype([(\"resource\", np.ubyte, 1)])\n"
     ]
    }
   ],
   "source": [
    "from sudoku_breaker import SudokuBreaker\n",
    "import pandas as pd\n",
    "from helper import preprocess_x,preprocess_y, np"
   ]
  },
  {
   "cell_type": "code",
   "execution_count": 2,
   "metadata": {},
   "outputs": [
    {
     "name": "stderr",
     "output_type": "stream",
     "text": [
      "/home/volodymyr/envs/sudoku_nn/lib/python3.7/site-packages/tensorflow/python/ops/nn_ops.py:60: DeprecationWarning: Using or importing the ABCs from 'collections' instead of from 'collections.abc' is deprecated since Python 3.3,and in 3.9 it will stop working\n",
      "  elif not isinstance(value, collections.Sized):\n"
     ]
    }
   ],
   "source": [
    "sudoku_model = SudokuBreaker('trained_model/sudoku_breaker.h5')"
   ]
  },
  {
   "cell_type": "code",
   "execution_count": 3,
   "metadata": {},
   "outputs": [],
   "source": [
    "df = pd.read_csv('data/hardcore_sudoku.csv')"
   ]
  },
  {
   "cell_type": "code",
   "execution_count": 4,
   "metadata": {},
   "outputs": [
    {
     "data": {
      "text/plain": [
       "array(['Platinum Blonde', 'Golden nagget', 'Cheese', 'Fata Morgana',\n",
       "       'Red Dwarf', 'Easter Monster', 'Escargot', 'Inkala',\n",
       "       'Killer Application', 'Lucky Diamond', 'Worm Hole', 'Labyrinth',\n",
       "       'Circles', '17 clues', '17 clues', '17 clues', '17 clues',\n",
       "       '17 clues', '17 clues', '17 clues', '17 clues', '17 clues',\n",
       "       '17 clues', '17 clues', '17 clues', '17 clues', '17 clues'],\n",
       "      dtype=object)"
      ]
     },
     "execution_count": 4,
     "metadata": {},
     "output_type": "execute_result"
    }
   ],
   "source": [
    "df.names.values"
   ]
  },
  {
   "cell_type": "code",
   "execution_count": 5,
   "metadata": {},
   "outputs": [
    {
     "data": {
      "text/plain": [
       "27"
      ]
     },
     "execution_count": 5,
     "metadata": {},
     "output_type": "execute_result"
    }
   ],
   "source": [
    "len(df)"
   ]
  },
  {
   "cell_type": "code",
<<<<<<< HEAD
   "execution_count": 8,
   "metadata": {},
   "outputs": [],
   "source": [
    "def solve_hardcore_interactive(model,df):\n",
=======
   "execution_count": 20,
   "metadata": {},
   "outputs": [],
   "source": [
    "def solve_hardocore_interactive(model,df):\n",
>>>>>>> cb2f083c6d1e0742cb47aa098e82d2e3feff3790
    "    x_data = df['x'].apply(preprocess_x).values\n",
    "    y_values = df['y'].apply(preprocess_y).values+1\n",
    "    names = df.names.values\n",
    "    error = []\n",
    "    for name,puzzle,solution in zip(names,x_data,y_values):\n",
    "        pred =  model.predict(puzzle)\n",
    "        if len(set(np.sum(pred,axis=1)))==1 and 45 in np.sum(pred,axis=1) and\\\n",
    "        (pred-solution.reshape((9,9))).sum()==0:\n",
    "            print('Solved {0} !'.format(name))\n",
    "        else:\n",
    "            error.append(np.equal(np.equal(pred,solution.reshape((9,9))).astype(int),0).astype(int).mean())\n",
    "    print('Mean error : {}'.format(np.mean(error)))"
   ]
  },
  {
   "cell_type": "code",
<<<<<<< HEAD
   "execution_count": 9,
=======
   "execution_count": 21,
>>>>>>> cb2f083c6d1e0742cb47aa098e82d2e3feff3790
   "metadata": {},
   "outputs": [
    {
     "name": "stdout",
     "output_type": "stream",
     "text": [
      "Solved Fata Morgana !\n",
      "Solved Easter Monster !\n",
      "Solved Killer Application !\n",
      "Solved Labyrinth !\n",
      "Mean error : 0.511003757380569\n"
     ]
    }
   ],
   "source": [
<<<<<<< HEAD
    "solve_hardcore_interactive(sudoku_model,df)"
=======
    "solve_hardocore_interactive(sudoku_model,df)"
>>>>>>> cb2f083c6d1e0742cb47aa098e82d2e3feff3790
   ]
  },
  {
   "cell_type": "code",
<<<<<<< HEAD
   "execution_count": 17,
=======
   "execution_count": 24,
>>>>>>> cb2f083c6d1e0742cb47aa098e82d2e3feff3790
   "metadata": {},
   "outputs": [],
   "source": [
    "def solve_custom(model,query):\n",
    "    prediction = model.predict(query)\n",
    "    print('Prediction : ')\n",
    "    print(prediction)\n",
<<<<<<< HEAD
    "    if prediction.sum()/9==45 and len(set(np.sum(prediction,axis=1)))==1\\\n",
    "    and  45 in np.sum(prediction,axis=1) :\n",
=======
    "    if prediction.sum()/9==45 and len(set(np.sum(pred,axis=1)))==1\\\n",
    "    and  45 in np.sum(pred,axis=1) :\n",
>>>>>>> cb2f083c6d1e0742cb47aa098e82d2e3feff3790
    "        print('Solved')\n",
    "    else:\n",
    "        print('Unsolved')"
   ]
  },
  {
   "cell_type": "code",
<<<<<<< HEAD
   "execution_count": 18,
=======
   "execution_count": 25,
>>>>>>> cb2f083c6d1e0742cb47aa098e82d2e3feff3790
   "metadata": {},
   "outputs": [
    {
     "name": "stdout",
     "output_type": "stream",
     "text": [
      "Prediction : \n",
<<<<<<< HEAD
      "[[9 4 8 3 2 6 5 7 1]\n",
      " [2 6 7 8 1 5 3 9 4]\n",
      " [1 5 3 4 7 9 2 8 6]\n",
      " [8 9 1 7 4 3 6 5 2]\n",
      " [6 3 2 9 5 1 7 4 8]\n",
      " [5 4 7 6 8 2 1 3 9]\n",
      " [3 2 9 5 6 4 8 1 7]\n",
      " [4 8 6 1 3 7 9 2 5]\n",
      " [7 1 5 2 9 8 4 6 3]]\n",
      "Solved\n"
=======
      "[[5 4 3 9 6 8 7 1 2]\n",
      " [6 8 7 4 2 1 9 5 3]\n",
      " [1 9 2 3 5 7 4 8 6]\n",
      " [7 6 1 8 3 4 2 9 5]\n",
      " [3 6 9 2 7 5 8 4 1]\n",
      " [8 5 4 6 1 9 3 6 7]\n",
      " [2 1 8 5 9 3 6 7 4]\n",
      " [9 3 6 7 4 2 5 2 8]\n",
      " [4 7 5 1 8 6 1 3 9]]\n",
      "Unsolved\n"
>>>>>>> cb2f083c6d1e0742cb47aa098e82d2e3feff3790
     ]
    }
   ],
   "source": [
<<<<<<< HEAD
    "solve_custom(sudoku_model,'000000070060010004003400200800003050002900700040080009020060007000100900700008060')"
=======
    "solve_custom(sudoku_model,'000000012000000003002300400001800005060070800000009000008500000900040500470006000')"
>>>>>>> cb2f083c6d1e0742cb47aa098e82d2e3feff3790
   ]
  },
  {
   "cell_type": "code",
   "execution_count": null,
   "metadata": {},
   "outputs": [],
   "source": []
  }
 ],
 "metadata": {
  "kernelspec": {
   "display_name": "Python 3",
   "language": "python",
   "name": "python3"
  },
  "language_info": {
   "codemirror_mode": {
    "name": "ipython",
    "version": 3
   },
   "file_extension": ".py",
   "mimetype": "text/x-python",
   "name": "python",
   "nbconvert_exporter": "python",
   "pygments_lexer": "ipython3",
   "version": "3.7.5"
  }
 },
 "nbformat": 4,
 "nbformat_minor": 4
}
